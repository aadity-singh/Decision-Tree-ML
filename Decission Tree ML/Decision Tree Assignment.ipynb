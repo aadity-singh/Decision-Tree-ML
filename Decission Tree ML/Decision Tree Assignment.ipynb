{
 "cells": [
  {
   "cell_type": "markdown",
   "id": "6aa137d8-79e2-49d8-a8c1-f66ea956f453",
   "metadata": {},
   "source": [
    "THEORY QUESTIONS:-"
   ]
  },
  {
   "cell_type": "markdown",
   "id": "07dd2ae8-ae01-409e-bff0-12ae631817fb",
   "metadata": {},
   "source": [
    "#1-What is a Decision Tree, and how does it work?\n",
    "  -> A Decision Tree is a supervised machine learning algorithm used for both classification and regression tasks. It models decisions and         their possible consequences in a tree-like structure, where each internal node represents a feature (attribute), each branch represents       a decision (rule), and each leaf node represents an outcome (label or value).\n",
    "     How It Works:\n",
    "     1-Start at the Root Node:\n",
    "         This is the top of the tree, containing the entire dataset.\n",
    "     2-Choose the Best Feature to Split:\n",
    "         The algorithm selects a feature that best separates the data based on a splitting criterion:\n",
    "         Classification: Uses metrics like Gini Impurity, Entropy/Information Gain.\n",
    "         Regression: Uses Mean Squared Error (MSE) or Variance Reduction.\n",
    "     3-Split the Dataset:\n",
    "        Based on the chosen feature, the data is divided into subsets.\n",
    "        A new decision node or leaf is created for each possible value or range.\n",
    "     4-Repeat Recursively:\n",
    "        The process repeats for each child node using the remaining features.\n",
    "        Stops when:All samples at a node belong to the same class (for classification).\n",
    "                   Maximum depth is reached.\n",
    "                   No further gain is possible.\n",
    "     5-Predicting:\n",
    "        To predict, you start at the root and follow the path according to the feature values of the input until you reach a leaf node."
   ]
  },
  {
   "cell_type": "markdown",
   "id": "a93ee735-d1d0-4f39-8189-4cb62db1591d",
   "metadata": {},
   "source": [
    "#2- What are impurity measures in Decision Trees?\n",
    "  -> Impurity measures in decision trees are mathematical ways to quantify how mixed or \"impure\" a node is. In other words, they tell us how        well a split separates the data into classes. The goal of a decision tree is to create nodes that are as pure as possible—meaning that          most or all data points in a node belong to the same class.\n",
    "     Common Impurity Measures are Gini Impurity,Entropy (Information Gain) and Classification Error."
   ]
  },
  {
   "cell_type": "markdown",
   "id": "dc16c6bc-ea75-4b84-95ab-f73d8b63a2ed",
   "metadata": {},
   "source": [
    "#3-What is the mathematical formula for Gini Impurity?\n",
    " -> For a node 𝑡 in a decision tree, the Gini Impurity is defined as:\n",
    "                     𝐶\n",
    "           Gini(𝑡)=1−∑𝑝𝑖^2\n",
    "                    𝑖=1\n",
    "   Where:\n",
    "        𝐶: Total number of classes.\n",
    "        𝑝𝑖 : Proportion (or probability) of class 𝑖 among the samples at node 𝑡.\n"
   ]
  },
  {
   "cell_type": "markdown",
   "id": "a737e830-dbe0-41d6-8cdc-01d3e551cb7d",
   "metadata": {},
   "source": [
    "#4- What is the mathematical formula for Entropy?\n",
    " -> In decision trees (especially ID3 and C4.5 algorithms), entropy measures the amount of uncertainty or impurity in a dataset.\n",
    "                                 𝐶\n",
    "    The formula is: Entropy(𝑡)= −∑𝑝𝑖log⁡2(𝑝𝑖)\n",
    "                                𝑖=1\n",
    " Where:\n",
    "      𝐶: Number of classes.\n",
    "      𝑝𝑖: Proportion (probability) of class 𝑖 in node 𝑡\n",
    "      log2: Logarithm base 2 (because we're measuring in bits of information).\n"
   ]
  },
  {
   "cell_type": "markdown",
   "id": "0e2ac056-57a4-4fb5-85fd-ac39d8e9df2e",
   "metadata": {},
   "source": [
    "#5- What is Information Gain, and how is it used in Decision Trees?\n",
    "  -> Information Gain (IG) is a metric used in decision trees to measure the effectiveness of an attribute in classifying the training data.\n",
    "     It quantifies the reduction in entropy (i.e., uncertainty or impurity) when a dataset is split based on an attribute. The higher the          information gain, the more useful the attribute is for making decisions.\n",
    "     How It's Used in Decision Trees:\n",
    "     1-For each feature, calculate the Information Gain.\n",
    "     2-Select the feature with the highest IG to split the data at the current node.\n",
    "     3-Repeat the process recursively for each child node until a stopping condition is met (e.g., all samples are pure, or max depth                reached)."
   ]
  },
  {
   "cell_type": "markdown",
   "id": "dddfecf8-3e7e-4207-bf04-24c395eb7aef",
   "metadata": {},
   "source": [
    "#6- What is the difference between Gini Impurity and Entropy?\n",
    " -> The difference between Gini Impurity and Entropy lies in how they measure impurity (or disorder) in a dataset. Both are used in decision      trees to decide the best feature to split on — but they use different mathematical approaches.\n",
    "    Gini Impurity:\n",
    "    1-Measures the probability of misclassifying a randomly chosen element.\n",
    "    2-Misclassification probability\n",
    "    3-Uses squared probabilities\n",
    "    4-0 (pure) to ~0.5 (max impurity)\n",
    "    Entropy:\n",
    "    1-Measures the amount of information (or surprise) in the data.\n",
    "    2-Information content / disorder\n",
    "    3-Uses log base 2 of probabilities\n",
    "    4-0 (pure) to 1 (max for binary)"
   ]
  },
  {
   "cell_type": "markdown",
   "id": "30071535-a040-407c-9f9d-6597d6b0357a",
   "metadata": {},
   "source": [
    "#7- What is the mathematical explanation behind Decision Trees?\n",
    "  -> A Decision Tree is a supervised learning algorithm used for classification and regression. It builds a model that predicts the value of       a target variable by learning simple decision rules from data features.\n",
    "     Step 1: Calculate the impurity of the current dataset\n",
    "     Step 2: Split the data on each feature and calculate the weighted average impurity of children\n",
    "     Step 3: Calculate Information Gain (or Gini Gain)\n",
    "     "
   ]
  },
  {
   "cell_type": "markdown",
   "id": "8a8b7716-4275-4fb2-a551-fed66a81929d",
   "metadata": {},
   "source": [
    "#8-What is Pre-Pruning in Decision Trees?\n",
    " -> Pre-Pruning, also called early stopping, is a technique used in decision trees to prevent the tree from growing too complex by stopping       the splitting process early—before the tree becomes fully grown.\n",
    "    The goal is to avoid overfitting by limiting how deep or complex the tree can get, especially when further splits don’t significantly          improve performance."
   ]
  },
  {
   "cell_type": "markdown",
   "id": "5c1a67d2-c688-4446-a6ff-8ee5673a239c",
   "metadata": {},
   "source": [
    "#9- What is Post-Pruning in Decision Trees?\n",
    "  -> Post-Pruning, also known as cost-complexity pruning, is a technique used to reduce the size of a fully grown decision tree by removing        branches that have little importance or contribute to overfitting.\n",
    "     Instead of stopping tree growth early (as in pre-pruning), post-pruning allows the tree to grow fully, and then cuts back branches that       do not improve predictive performance on validation data."
   ]
  },
  {
   "cell_type": "markdown",
   "id": "288909b7-ce02-46f8-ad47-0287f77af007",
   "metadata": {},
   "source": [
    "#10- What is the difference between Pre-Pruning and Post-Pruning?\n",
    " -> 1-Pre-Pruning (Early Stopping)\n",
    "      Definition:Stops the tree from growing once a certain condition is met during the construction.\n",
    "      How it works:The algorithm checks a stopping condition before splitting a node.\n",
    "      Common Stopping Criteria:\n",
    "      1-Maximum depth of the tree.\n",
    "      2-Minimum number of samples required to split a node.\n",
    "      3-Minimum impurity decrease.\n",
    "      4-Gain in information is below a threshold.\n",
    "    2-Post-Pruning (Pruning After Full Growth)\n",
    "      Definition:Allows the tree to grow fully, then removes branches that do not contribute much to predictive power.\n",
    "      How it works:After the tree is built, it evaluates and removes subtrees based on validation performance or complexity penalties.  \n",
    "      Types of Post-Pruning: \n",
    "      Cost Complexity Pruning (CCP): Prunes subtrees with least impact on accuracy (used in CART).   \n",
    "      Reduced Error Pruning: Removes nodes if the accuracy on a validation set does not decrease."
   ]
  },
  {
   "cell_type": "markdown",
   "id": "b9286abb-ccf1-4eda-8fb3-da5d281a2b40",
   "metadata": {},
   "source": [
    "#11-What is a Decision Tree Regressor?\n",
    " -> A Decision Tree Regressor is a type of supervised learning algorithm used for regression tasks, where the goal is to predict a continuous    numerical value (as opposed to classification, which predicts categories)."
   ]
  },
  {
   "cell_type": "markdown",
   "id": "a2a81e77-78f8-4bad-830a-d0341011d4d0",
   "metadata": {},
   "source": [
    "#12-What are the advantages and disadvantages of Decision Trees?\n",
    "-> Advantages of Decision Trees:-\n",
    "   1- Easy to Understand and Interpret\n",
    "   2- Handles Both Types of Data\n",
    "   3- Requires Little Data Preparation\n",
    "   4-  Non-Linear Relationships\n",
    "   Disadvantages of Decision Trees:-\n",
    "    1-Overfitting\n",
    "    2-Unstable\n",
    "    3-Biased with Imbalanced Data\n",
    "    4-Not Optimal for Continuous Predictions Alone"
   ]
  },
  {
   "cell_type": "markdown",
   "id": "fa10608b-e70f-429f-84b4-fbd57b3c61a8",
   "metadata": {},
   "source": [
    "#13-How does a Decision Tree handle missing values?\n",
    " -> Decision Trees can handle missing values in different ways depending on the implementation and framework (e.g., scikit-learn, XGBoost,        etc.). They do it in this way:-\n",
    "     1- Handling Missing Values in Training Data\n",
    "        a. Omission (Preprocessing Step)\n",
    "        b. Imputation (Recommended Preprocessing)\n",
    "     2. Native Handling (In Some Libraries)\n",
    "        XGBoost / LightGBM / CatBoost:\n",
    "        These tree-based libraries handle missing values natively by:\n",
    "         1-Learning Optimal Splits for Missing Data\n",
    "         2-During Inference:If a missing value is found, it’s automatically routed according to the learned rule.\n",
    "     3. Custom Handling in Decision Trees"
   ]
  },
  {
   "cell_type": "markdown",
   "id": "4e3452bf-018f-4d0e-bed5-f2e2bd55474e",
   "metadata": {},
   "source": [
    "#14- How does a Decision Tree handle categorical features?\n",
    " -> A Decision Tree can handle categorical features, but how it does so depends on the library or algorithm being used. Here’s how it works:\n",
    "    1. The General Idea: Splitting Based on Categories\n",
    "    2. Handling in Popular Libraries\n",
    "    3. How Splitting Works Internally"
   ]
  },
  {
   "cell_type": "markdown",
   "id": "f5f94757-9cee-495e-9883-0d85bfc2040e",
   "metadata": {},
   "source": [
    "#15- What are some real-world applications of Decision Trees?\n",
    " -> Application: Disease Diagnosis,\n",
    "                 Finance and Banking,\n",
    "                 Retail and E-commerce,\n",
    "                 Business and Marketing"
   ]
  },
  {
   "cell_type": "markdown",
   "id": "356f6ccf-0240-4531-957d-d9824fc8969f",
   "metadata": {},
   "source": [
    "PRACTICAL QUESTIONS:-"
   ]
  },
  {
   "cell_type": "code",
   "execution_count": 18,
   "id": "eedec1da-a07f-4fc0-ae30-732947bfd254",
   "metadata": {},
   "outputs": [
    {
     "name": "stdout",
     "output_type": "stream",
     "text": [
      "Decision Tree Classifier Accuracy: 100.00%\n"
     ]
    }
   ],
   "source": [
    "#16- Write a Python program to train a Decision Tree Classifier on the Iris dataset and print the model accuracy.\n",
    "# Import necessary libraries\n",
    "from sklearn.datasets import load_iris\n",
    "from sklearn.model_selection import train_test_split\n",
    "from sklearn.tree import DecisionTreeClassifier\n",
    "from sklearn.metrics import accuracy_score\n",
    "\n",
    "# Load the Iris dataset\n",
    "iris = load_iris()\n",
    "X = iris.data      # Features\n",
    "y = iris.target    # Target labels\n",
    "\n",
    "# Split the dataset into training and test sets (80% train, 20% test)\n",
    "X_train, X_test, y_train, y_test = train_test_split(X, y, test_size=0.2, random_state=42)\n",
    "\n",
    "# Create a Decision Tree Classifier\n",
    "model = DecisionTreeClassifier(random_state=42)\n",
    "\n",
    "# Train the model\n",
    "model.fit(X_train, y_train)\n",
    "\n",
    "# Predict on the test set\n",
    "y_pred = model.predict(X_test)\n",
    "\n",
    "# Calculate and print the accuracy\n",
    "accuracy = accuracy_score(y_test, y_pred)\n",
    "print(f\"Decision Tree Classifier Accuracy: {accuracy * 100:.2f}%\")\n"
   ]
  },
  {
   "cell_type": "code",
   "execution_count": 19,
   "id": "7c4c2c99-ae3a-4c11-9bf6-6b42df2eaebf",
   "metadata": {},
   "outputs": [
    {
     "name": "stdout",
     "output_type": "stream",
     "text": [
      "Feature Importances based on Gini Impurity:\n",
      "             Feature  Importance\n",
      "2  petal length (cm)    0.906143\n",
      "3   petal width (cm)    0.077186\n",
      "1   sepal width (cm)    0.016670\n",
      "0  sepal length (cm)    0.000000\n"
     ]
    }
   ],
   "source": [
    "#17- Write a Python program to train a Decision Tree Classifier using Gini Impurity as the criterion and print the \n",
    "# feature importances\n",
    "# Import necessary libraries\n",
    "from sklearn.datasets import load_iris\n",
    "from sklearn.model_selection import train_test_split\n",
    "from sklearn.tree import DecisionTreeClassifier\n",
    "import pandas as pd\n",
    "\n",
    "# Load the Iris dataset\n",
    "iris = load_iris()\n",
    "X = iris.data\n",
    "y = iris.target\n",
    "feature_names = iris.feature_names\n",
    "\n",
    "# Split the dataset into training and testing sets\n",
    "X_train, X_test, y_train, y_test = train_test_split(X, y, test_size=0.2, random_state=42)\n",
    "\n",
    "# Create a Decision Tree Classifier using Gini Impurity\n",
    "model = DecisionTreeClassifier(criterion='gini', random_state=42)\n",
    "\n",
    "# Train the model\n",
    "model.fit(X_train, y_train)\n",
    "\n",
    "# Print feature importances\n",
    "importances = model.feature_importances_\n",
    "importance_df = pd.DataFrame({\n",
    "    'Feature': feature_names,\n",
    "    'Importance': importances\n",
    "}).sort_values(by='Importance', ascending=False)\n",
    "\n",
    "print(\"Feature Importances based on Gini Impurity:\")\n",
    "print(importance_df)\n"
   ]
  },
  {
   "cell_type": "code",
   "execution_count": 20,
   "id": "11132307-9084-4a9b-8e90-063641085c98",
   "metadata": {},
   "outputs": [
    {
     "name": "stdout",
     "output_type": "stream",
     "text": [
      "Decision Tree Classifier Accuracy (Entropy): 100.00%\n"
     ]
    }
   ],
   "source": [
    "#18-Write a Python program to train a Decision Tree Classifier using Entropy as the splitting criterion and print the \n",
    "# model accuracy\n",
    "# Import necessary libraries\n",
    "from sklearn.datasets import load_iris\n",
    "from sklearn.model_selection import train_test_split\n",
    "from sklearn.tree import DecisionTreeClassifier\n",
    "from sklearn.metrics import accuracy_score\n",
    "\n",
    "# Load the Iris dataset\n",
    "iris = load_iris()\n",
    "X = iris.data\n",
    "y = iris.target\n",
    "\n",
    "# Split dataset into training and test sets (80% train, 20% test)\n",
    "X_train, X_test, y_train, y_test = train_test_split(X, y, test_size=0.2, random_state=42)\n",
    "\n",
    "# Create a Decision Tree Classifier using Entropy\n",
    "model = DecisionTreeClassifier(criterion='entropy', random_state=42)\n",
    "\n",
    "# Train the model\n",
    "model.fit(X_train, y_train)\n",
    "\n",
    "# Predict on test data\n",
    "y_pred = model.predict(X_test)\n",
    "\n",
    "# Calculate and print accuracy\n",
    "accuracy = accuracy_score(y_test, y_pred)\n",
    "print(f\"Decision Tree Classifier Accuracy (Entropy): {accuracy * 100:.2f}%\")\n"
   ]
  },
  {
   "cell_type": "code",
   "execution_count": 21,
   "id": "8f3986e3-a1cd-44e0-b528-fed07ef0a1f4",
   "metadata": {},
   "outputs": [
    {
     "name": "stdout",
     "output_type": "stream",
     "text": [
      "Mean Squared Error (Decision Tree Regressor): 0.4952\n"
     ]
    }
   ],
   "source": [
    "#19-Write a Python program to train a Decision Tree Regressor on a housing dataset and evaluate using Mean \n",
    "# Squared Error (MSE)\n",
    "# Import necessary libraries\n",
    "from sklearn.datasets import fetch_california_housing\n",
    "from sklearn.model_selection import train_test_split\n",
    "from sklearn.tree import DecisionTreeRegressor\n",
    "from sklearn.metrics import mean_squared_error\n",
    "\n",
    "# Load the California housing dataset\n",
    "housing = fetch_california_housing()\n",
    "X = housing.data\n",
    "y = housing.target\n",
    "\n",
    "# Split into training and test sets (80% train, 20% test)\n",
    "X_train, X_test, y_train, y_test = train_test_split(X, y, test_size=0.2, random_state=42)\n",
    "\n",
    "# Create and train the Decision Tree Regressor\n",
    "model = DecisionTreeRegressor(random_state=42)\n",
    "model.fit(X_train, y_train)\n",
    "\n",
    "# Make predictions on the test set\n",
    "y_pred = model.predict(X_test)\n",
    "\n",
    "# Calculate Mean Squared Error\n",
    "mse = mean_squared_error(y_test, y_pred)\n",
    "print(f\"Mean Squared Error (Decision Tree Regressor): {mse:.4f}\")\n"
   ]
  },
  {
   "cell_type": "code",
   "execution_count": 3,
   "id": "51e0d101-4cdd-4651-adf9-a334a91e7238",
   "metadata": {},
   "outputs": [
    {
     "data": {
      "text/plain": [
       "'iris_decision_tree.pdf'"
      ]
     },
     "execution_count": 3,
     "metadata": {},
     "output_type": "execute_result"
    }
   ],
   "source": [
    "#20- Write a Python program to train a Decision Tree Classifier and visualize the tree using graphviz.\n",
    "# Install graphviz if not already installed\n",
    "# You can run this in a Jupyter cell or terminal\n",
    "\n",
    "\n",
    "# Import required libraries\n",
    "from sklearn.datasets import load_iris\n",
    "from sklearn.tree import DecisionTreeClassifier, export_graphviz\n",
    "from sklearn.model_selection import train_test_split\n",
    "import graphviz\n",
    "\n",
    "# Load Iris dataset\n",
    "iris = load_iris()\n",
    "X = iris.data\n",
    "y = iris.target\n",
    "feature_names = iris.feature_names\n",
    "class_names = iris.target_names\n",
    "\n",
    "# Split dataset\n",
    "X_train, X_test, y_train, y_test = train_test_split(X, y, test_size=0.2, random_state=42)\n",
    "\n",
    "# Train Decision Tree Classifier\n",
    "clf = DecisionTreeClassifier(criterion='gini', max_depth=3, random_state=42)\n",
    "clf.fit(X_train, y_train)\n",
    "\n",
    "# Export the decision tree to DOT format\n",
    "dot_data = export_graphviz(\n",
    "    clf,\n",
    "    out_file=None,\n",
    "    feature_names=feature_names,\n",
    "    class_names=class_names,\n",
    "    filled=True,\n",
    "    rounded=True,\n",
    "    special_characters=True\n",
    ")\n",
    "\n",
    "# Visualize using graphviz\n",
    "graph = graphviz.Source(dot_data)\n",
    "graph.render(\"iris_decision_tree\", format=\"png\", cleanup=True)  # Saves as PNG\n",
    "graph.view()  # Opens the image in the default viewer\n"
   ]
  },
  {
   "cell_type": "code",
   "execution_count": 23,
   "id": "166e2c66-9ec9-4cb9-86d2-dc0b55edf82d",
   "metadata": {},
   "outputs": [
    {
     "name": "stdout",
     "output_type": "stream",
     "text": [
      "Accuracy with max depth = 3: 100.00%\n",
      "Accuracy with full tree     : 100.00%\n"
     ]
    }
   ],
   "source": [
    "#21- Write a Python program to train a Decision Tree Classifier with a maximum depth of 3 and compare its \n",
    "# accuracy with a fully grown tree\n",
    "from sklearn.datasets import load_iris\n",
    "from sklearn.model_selection import train_test_split\n",
    "from sklearn.tree import DecisionTreeClassifier\n",
    "from sklearn.metrics import accuracy_score\n",
    "\n",
    "# Load Iris dataset\n",
    "iris = load_iris()\n",
    "X = iris.data\n",
    "y = iris.target\n",
    "\n",
    "# Split dataset into training and testing sets (80% train, 20% test)\n",
    "X_train, X_test, y_train, y_test = train_test_split(X, y, test_size=0.2, random_state=42)\n",
    "\n",
    "# Train Decision Tree Classifier with max depth = 3\n",
    "tree_limited = DecisionTreeClassifier(max_depth=3, random_state=42)\n",
    "tree_limited.fit(X_train, y_train)\n",
    "y_pred_limited = tree_limited.predict(X_test)\n",
    "accuracy_limited = accuracy_score(y_test, y_pred_limited)\n",
    "\n",
    "# Train a fully grown Decision Tree Classifier (no max_depth)\n",
    "tree_full = DecisionTreeClassifier(random_state=42)\n",
    "tree_full.fit(X_train, y_train)\n",
    "y_pred_full = tree_full.predict(X_test)\n",
    "accuracy_full = accuracy_score(y_test, y_pred_full)\n",
    "\n",
    "# Print comparison results\n",
    "print(f\"Accuracy with max depth = 3: {accuracy_limited * 100:.2f}%\")\n",
    "print(f\"Accuracy with full tree     : {accuracy_full * 100:.2f}%\")\n"
   ]
  },
  {
   "cell_type": "code",
   "execution_count": 25,
   "id": "aec1f009-ca75-4687-a7e7-366d8770cce8",
   "metadata": {},
   "outputs": [
    {
     "name": "stdout",
     "output_type": "stream",
     "text": [
      "Accuracy with min_samples_split=5: 100.00%\n",
      "Accuracy with default parameters  : 100.00%\n"
     ]
    }
   ],
   "source": [
    "#22-Write a Python program to train a Decision Tree Classifier using min_samples_split=5 and compare its \n",
    "# accuracy with a default tree\n",
    "from sklearn.datasets import load_iris\n",
    "from sklearn.model_selection import train_test_split\n",
    "from sklearn.tree import DecisionTreeClassifier\n",
    "from sklearn.metrics import accuracy_score\n",
    "\n",
    "# Load the Iris dataset\n",
    "iris = load_iris()\n",
    "X = iris.data\n",
    "y = iris.target\n",
    "\n",
    "# Split into training and testing sets (80% train, 20% test)\n",
    "X_train, X_test, y_train, y_test = train_test_split(X, y, test_size=0.2, random_state=42)\n",
    "\n",
    "# Train Decision Tree with min_samples_split = 5\n",
    "tree_custom = DecisionTreeClassifier(min_samples_split=5, random_state=42)\n",
    "tree_custom.fit(X_train, y_train)\n",
    "y_pred_custom = tree_custom.predict(X_test)\n",
    "accuracy_custom = accuracy_score(y_test, y_pred_custom)\n",
    "\n",
    "# Train default Decision Tree\n",
    "tree_default = DecisionTreeClassifier(random_state=42)\n",
    "tree_default.fit(X_train, y_train)\n",
    "y_pred_default = tree_default.predict(X_test)\n",
    "accuracy_default = accuracy_score(y_test, y_pred_default)\n",
    "\n",
    "# Print results\n",
    "print(f\"Accuracy with min_samples_split=5: {accuracy_custom * 100:.2f}%\")\n",
    "print(f\"Accuracy with default parameters  : {accuracy_default * 100:.2f}%\")\n"
   ]
  },
  {
   "cell_type": "code",
   "execution_count": 27,
   "id": "046bd118-6c8a-48b6-a89d-837d2e99efb2",
   "metadata": {},
   "outputs": [
    {
     "name": "stdout",
     "output_type": "stream",
     "text": [
      "Accuracy without scaling: 100.00%\n",
      "Accuracy with scaling   : 100.00%\n"
     ]
    }
   ],
   "source": [
    "#23- Write a Python program to apply feature scaling before training a Decision Tree Classifier and compare its \n",
    "# accuracy with unscaled data\n",
    "from sklearn.datasets import load_iris\n",
    "from sklearn.model_selection import train_test_split\n",
    "from sklearn.tree import DecisionTreeClassifier\n",
    "from sklearn.preprocessing import StandardScaler\n",
    "from sklearn.metrics import accuracy_score\n",
    "\n",
    "# Load Iris dataset\n",
    "iris = load_iris()\n",
    "X = iris.data\n",
    "y = iris.target\n",
    "\n",
    "# Split into train and test sets\n",
    "X_train, X_test, y_train, y_test = train_test_split(X, y, test_size=0.2, random_state=42)\n",
    "\n",
    "# 1️⃣ Train with **unscaled** data\n",
    "model_unscaled = DecisionTreeClassifier(random_state=42)\n",
    "model_unscaled.fit(X_train, y_train)\n",
    "y_pred_unscaled = model_unscaled.predict(X_test)\n",
    "accuracy_unscaled = accuracy_score(y_test, y_pred_unscaled)\n",
    "\n",
    "# 2️⃣ Train with **scaled** data\n",
    "scaler = StandardScaler()\n",
    "X_train_scaled = scaler.fit_transform(X_train)\n",
    "X_test_scaled = scaler.transform(X_test)\n",
    "\n",
    "model_scaled = DecisionTreeClassifier(random_state=42)\n",
    "model_scaled.fit(X_train_scaled, y_train)\n",
    "y_pred_scaled = model_scaled.predict(X_test_scaled)\n",
    "accuracy_scaled = accuracy_score(y_test, y_pred_scaled)\n",
    "\n",
    "# 🔁 Print comparison results\n",
    "print(f\"Accuracy without scaling: {accuracy_unscaled * 100:.2f}%\")\n",
    "print(f\"Accuracy with scaling   : {accuracy_scaled * 100:.2f}%\")\n"
   ]
  },
  {
   "cell_type": "code",
   "execution_count": 29,
   "id": "d33c32c0-a80a-4330-833a-b9a828e0ff7e",
   "metadata": {},
   "outputs": [
    {
     "name": "stdout",
     "output_type": "stream",
     "text": [
      "Accuracy of Decision Tree with One-vs-Rest strategy: 100.00%\n"
     ]
    }
   ],
   "source": [
    "# Write a Python program to train a Decision Tree Classifier using One-vs-Rest (OvR) strategy for multiclass \n",
    "# classification\n",
    "from sklearn.datasets import load_iris\n",
    "from sklearn.model_selection import train_test_split\n",
    "from sklearn.tree import DecisionTreeClassifier\n",
    "from sklearn.multiclass import OneVsRestClassifier\n",
    "from sklearn.metrics import accuracy_score\n",
    "\n",
    "# Load the Iris dataset\n",
    "iris = load_iris()\n",
    "X = iris.data\n",
    "y = iris.target\n",
    "\n",
    "# Split dataset into training and testing sets\n",
    "X_train, X_test, y_train, y_test = train_test_split(X, y, test_size=0.2, random_state=42)\n",
    "\n",
    "# Create a Decision Tree Classifier\n",
    "base_model = DecisionTreeClassifier(random_state=42)\n",
    "\n",
    "# Wrap it in a One-vs-Rest (OvR) multiclass strategy\n",
    "ovr_model = OneVsRestClassifier(base_model)\n",
    "\n",
    "# Train the OvR model\n",
    "ovr_model.fit(X_train, y_train)\n",
    "\n",
    "# Predict and calculate accuracy\n",
    "y_pred = ovr_model.predict(X_test)\n",
    "accuracy = accuracy_score(y_test, y_pred)\n",
    "\n",
    "# Print the results\n",
    "print(f\"Accuracy of Decision Tree with One-vs-Rest strategy: {accuracy * 100:.2f}%\")\n"
   ]
  },
  {
   "cell_type": "code",
   "execution_count": 31,
   "id": "6c794528-368b-4c9b-9a28-01d052c6ffdc",
   "metadata": {},
   "outputs": [
    {
     "name": "stdout",
     "output_type": "stream",
     "text": [
      "Feature Importance Scores:\n",
      "             Feature  Importance Score\n",
      "2  petal length (cm)          0.906143\n",
      "3   petal width (cm)          0.077186\n",
      "1   sepal width (cm)          0.016670\n",
      "0  sepal length (cm)          0.000000\n"
     ]
    }
   ],
   "source": [
    "#25-Write a Python program to train a Decision Tree Classifier and display the feature importance scores\n",
    "from sklearn.datasets import load_iris\n",
    "from sklearn.tree import DecisionTreeClassifier\n",
    "from sklearn.model_selection import train_test_split\n",
    "import pandas as pd\n",
    "\n",
    "# Load the Iris dataset\n",
    "iris = load_iris()\n",
    "X = iris.data\n",
    "y = iris.target\n",
    "feature_names = iris.feature_names\n",
    "\n",
    "# Split into training and testing sets\n",
    "X_train, X_test, y_train, y_test = train_test_split(X, y, test_size=0.2, random_state=42)\n",
    "\n",
    "# Train the Decision Tree Classifier\n",
    "model = DecisionTreeClassifier(random_state=42)\n",
    "model.fit(X_train, y_train)\n",
    "\n",
    "# Get feature importances\n",
    "importances = model.feature_importances_\n",
    "\n",
    "# Create a DataFrame to display nicely\n",
    "importance_df = pd.DataFrame({\n",
    "    'Feature': feature_names,\n",
    "    'Importance Score': importances\n",
    "}).sort_values(by='Importance Score', ascending=False)\n",
    "\n",
    "# Print the feature importances\n",
    "print(\"Feature Importance Scores:\")\n",
    "print(importance_df)\n"
   ]
  },
  {
   "cell_type": "code",
   "execution_count": 33,
   "id": "a90b20d0-693c-4b54-9a8f-3409ede7d2e0",
   "metadata": {},
   "outputs": [
    {
     "name": "stdout",
     "output_type": "stream",
     "text": [
      "Mean Squared Error (max_depth=5): 0.5245\n",
      "Mean Squared Error (unrestricted): 0.4952\n"
     ]
    }
   ],
   "source": [
    "#26-Write a Python program to train a Decision Tree Regressor with max_depth=5 and compare its performance \n",
    "# with an unrestricted tree\n",
    "from sklearn.datasets import fetch_california_housing\n",
    "from sklearn.tree import DecisionTreeRegressor\n",
    "from sklearn.model_selection import train_test_split\n",
    "from sklearn.metrics import mean_squared_error\n",
    "\n",
    "# Load the California housing dataset\n",
    "data = fetch_california_housing()\n",
    "X = data.data\n",
    "y = data.target\n",
    "\n",
    "# Split into training and testing sets\n",
    "X_train, X_test, y_train, y_test = train_test_split(X, y, test_size=0.2, random_state=42)\n",
    "\n",
    "# Train Decision Tree Regressor with max_depth=5\n",
    "regressor_limited = DecisionTreeRegressor(max_depth=5, random_state=42)\n",
    "regressor_limited.fit(X_train, y_train)\n",
    "y_pred_limited = regressor_limited.predict(X_test)\n",
    "mse_limited = mean_squared_error(y_test, y_pred_limited)\n",
    "\n",
    "# Train unrestricted Decision Tree Regressor\n",
    "regressor_unrestricted = DecisionTreeRegressor(random_state=42)\n",
    "regressor_unrestricted.fit(X_train, y_train)\n",
    "y_pred_unrestricted = regressor_unrestricted.predict(X_test)\n",
    "mse_unrestricted = mean_squared_error(y_test, y_pred_unrestricted)\n",
    "\n",
    "# Print the results\n",
    "print(f\"Mean Squared Error (max_depth=5): {mse_limited:.4f}\")\n",
    "print(f\"Mean Squared Error (unrestricted): {mse_unrestricted:.4f}\")\n"
   ]
  },
  {
   "cell_type": "code",
   "execution_count": 35,
   "id": "ad300baf-d2df-418e-a251-a5ff6e822eb2",
   "metadata": {},
   "outputs": [
    {
     "data": {
      "image/png": "[encoded data removed]",
      "text/plain": [
       "<Figure size 1000x600 with 1 Axes>"
      ]
     },
     "metadata": {},
     "output_type": "display_data"
    }
   ],
   "source": [
    "#27- Write a Python program to train a Decision Tree Classifier, apply Cost Complexity Pruning (CCP), and \n",
    "# visualize its effect on accuracy\n",
    "import matplotlib.pyplot as plt\n",
    "import numpy as np\n",
    "from sklearn.datasets import load_iris\n",
    "from sklearn.model_selection import train_test_split\n",
    "from sklearn.tree import DecisionTreeClassifier\n",
    "\n",
    "# Load dataset\n",
    "iris = load_iris()\n",
    "X, y = iris.data, iris.target\n",
    "\n",
    "# Split into train and test sets\n",
    "X_train, X_test, y_train, y_test = train_test_split(X, y, test_size=0.3, random_state=42)\n",
    "\n",
    "# Train an initial tree to get the effective alphas\n",
    "clf = DecisionTreeClassifier(random_state=42)\n",
    "path = clf.cost_complexity_pruning_path(X_train, y_train)\n",
    "ccp_alphas = path.ccp_alphas\n",
    "\n",
    "# Train decision trees for each alpha\n",
    "clfs = []\n",
    "for alpha in ccp_alphas:\n",
    "    clf = DecisionTreeClassifier(random_state=42, ccp_alpha=alpha)\n",
    "    clf.fit(X_train, y_train)\n",
    "    clfs.append(clf)\n",
    "\n",
    "# Remove the last tree (often trivial)\n",
    "clfs = clfs[:-1]\n",
    "ccp_alphas = ccp_alphas[:-1]\n",
    "\n",
    "# Calculate accuracy on training and test sets\n",
    "train_acc = [clf.score(X_train, y_train) for clf in clfs]\n",
    "test_acc = [clf.score(X_test, y_test) for clf in clfs]\n",
    "\n",
    "# Plotting\n",
    "plt.figure(figsize=(10, 6))\n",
    "plt.plot(ccp_alphas, train_acc, marker='o', label='Train Accuracy', drawstyle=\"steps-post\")\n",
    "plt.plot(ccp_alphas, test_acc, marker='o', label='Test Accuracy', drawstyle=\"steps-post\")\n",
    "plt.xlabel(\"CCP Alpha\")\n",
    "plt.ylabel(\"Accuracy\")\n",
    "plt.title(\"Effect of Cost Complexity Pruning on Accuracy\")\n",
    "plt.legend()\n",
    "plt.grid(True)\n",
    "plt.show()\n"
   ]
  },
  {
   "cell_type": "code",
   "execution_count": 37,
   "id": "edbc3bd1-b33b-44bb-a5ea-6ec17e82c06a",
   "metadata": {},
   "outputs": [
    {
     "name": "stdout",
     "output_type": "stream",
     "text": [
      "Classification Report:\n",
      "\n",
      "              precision    recall  f1-score   support\n",
      "\n",
      "      setosa       1.00      1.00      1.00        19\n",
      "  versicolor       1.00      1.00      1.00        13\n",
      "   virginica       1.00      1.00      1.00        13\n",
      "\n",
      "    accuracy                           1.00        45\n",
      "   macro avg       1.00      1.00      1.00        45\n",
      "weighted avg       1.00      1.00      1.00        45\n",
      "\n",
      "Precision (macro-average): 1.0\n",
      "Recall (macro-average): 1.0\n",
      "F1-Score (macro-average): 1.0\n"
     ]
    }
   ],
   "source": [
    "#28- Write a Python program to train a Decision Tree Classifier and evaluate its performance using Precision, \n",
    "# Recall, and F1-Score\n",
    "from sklearn.datasets import load_iris\n",
    "from sklearn.model_selection import train_test_split\n",
    "from sklearn.tree import DecisionTreeClassifier\n",
    "from sklearn.metrics import classification_report, precision_score, recall_score, f1_score\n",
    "\n",
    "# Load dataset\n",
    "iris = load_iris()\n",
    "X, y = iris.data, iris.target\n",
    "\n",
    "# Split dataset into training and testing sets\n",
    "X_train, X_test, y_train, y_test = train_test_split(X, y, test_size=0.3, random_state=42)\n",
    "\n",
    "# Train a Decision Tree Classifier\n",
    "clf = DecisionTreeClassifier(random_state=42)\n",
    "clf.fit(X_train, y_train)\n",
    "\n",
    "# Predict on test data\n",
    "y_pred = clf.predict(X_test)\n",
    "\n",
    "# Generate evaluation metrics\n",
    "print(\"Classification Report:\\n\")\n",
    "print(classification_report(y_test, y_pred, target_names=iris.target_names))\n",
    "\n",
    "# If you want to print metrics separately\n",
    "precision = precision_score(y_test, y_pred, average='macro')  # Use 'micro' or 'weighted' as needed\n",
    "recall = recall_score(y_test, y_pred, average='macro')\n",
    "f1 = f1_score(y_test, y_pred, average='macro')\n",
    "\n",
    "print(\"Precision (macro-average):\", round(precision, 4))\n",
    "print(\"Recall (macro-average):\", round(recall, 4))\n",
    "print(\"F1-Score (macro-average):\", round(f1, 4))\n"
   ]
  },
  {
   "cell_type": "code",
   "execution_count": 39,
   "id": "91ab8083-c6a1-4c2e-a89a-a12f1db5c353",
   "metadata": {},
   "outputs": [
    {
     "data": {
      "image/png": "[encoded data removed]",
      "text/plain": [
       "<Figure size 800x600 with 2 Axes>"
      ]
     },
     "metadata": {},
     "output_type": "display_data"
    }
   ],
   "source": [
    "#29-Write a Python program to train a Decision Tree Classifier and visualize the confusion matrix using seaborn\n",
    "import seaborn as sns\n",
    "import matplotlib.pyplot as plt\n",
    "from sklearn.datasets import load_iris\n",
    "from sklearn.model_selection import train_test_split\n",
    "from sklearn.tree import DecisionTreeClassifier\n",
    "from sklearn.metrics import confusion_matrix, ConfusionMatrixDisplay\n",
    "\n",
    "# Load dataset\n",
    "iris = load_iris()\n",
    "X, y = iris.data, iris.target\n",
    "class_names = iris.target_names\n",
    "\n",
    "# Split into training and test sets\n",
    "X_train, X_test, y_train, y_test = train_test_split(X, y, test_size=0.3, random_state=42)\n",
    "\n",
    "# Train Decision Tree Classifier\n",
    "clf = DecisionTreeClassifier(random_state=42)\n",
    "clf.fit(X_train, y_train)\n",
    "\n",
    "# Predict on test set\n",
    "y_pred = clf.predict(X_test)\n",
    "\n",
    "# Compute confusion matrix\n",
    "cm = confusion_matrix(y_test, y_pred)\n",
    "\n",
    "# Plot confusion matrix using seaborn\n",
    "plt.figure(figsize=(8, 6))\n",
    "sns.heatmap(cm, annot=True, fmt=\"d\", cmap=\"Blues\", \n",
    "            xticklabels=class_names, yticklabels=class_names)\n",
    "plt.title(\"Confusion Matrix\")\n",
    "plt.xlabel(\"Predicted Labels\")\n",
    "plt.ylabel(\"True Labels\")\n",
    "plt.show()\n"
   ]
  },
  {
   "cell_type": "code",
   "execution_count": 41,
   "id": "8898dd13-d7ff-4da5-b2b2-3248a717dcf1",
   "metadata": {},
   "outputs": [
    {
     "name": "stdout",
     "output_type": "stream",
     "text": [
      "Best Parameters: {'max_depth': 4, 'min_samples_split': 10}\n",
      "Best Cross-Validation Accuracy: 0.9429\n",
      "Test Set Accuracy: 1.0\n"
     ]
    }
   ],
   "source": [
    "#30-Write a Python program to train a Decision Tree Classifier and use GridSearchCV to find the optimal values \n",
    "# for max_depth and min_samples_split\n",
    "from sklearn.datasets import load_iris\n",
    "from sklearn.tree import DecisionTreeClassifier\n",
    "from sklearn.model_selection import GridSearchCV, train_test_split\n",
    "from sklearn.metrics import accuracy_score\n",
    "\n",
    "# Load the dataset\n",
    "iris = load_iris()\n",
    "X, y = iris.data, iris.target\n",
    "\n",
    "# Split dataset into training and testing sets\n",
    "X_train, X_test, y_train, y_test = train_test_split(X, y, test_size=0.3, random_state=42)\n",
    "\n",
    "# Define the model\n",
    "dtree = DecisionTreeClassifier(random_state=42)\n",
    "\n",
    "# Define the parameter grid\n",
    "param_grid = {\n",
    "    'max_depth': [2, 3, 4, 5, 6, 7, None],\n",
    "    'min_samples_split': [2, 5, 10, 20]\n",
    "}\n",
    "\n",
    "# Setup GridSearchCV\n",
    "grid_search = GridSearchCV(dtree, param_grid, cv=5, scoring='accuracy')\n",
    "\n",
    "# Fit the model\n",
    "grid_search.fit(X_train, y_train)\n",
    "\n",
    "# Best parameters and best estimator\n",
    "print(\"Best Parameters:\", grid_search.best_params_)\n",
    "print(\"Best Cross-Validation Accuracy:\", round(grid_search.best_score_, 4))\n",
    "\n",
    "# Evaluate on test data\n",
    "best_model = grid_search.best_estimator_\n",
    "y_pred = best_model.predict(X_test)\n",
    "test_accuracy = accuracy_score(y_test, y_pred)\n",
    "print(\"Test Set Accuracy:\", round(test_accuracy, 4))\n"
   ]
  },
  {
   "cell_type": "code",
   "execution_count": null,
   "id": "e5602725-56d7-4527-88a3-73cb34a1bbcf",
   "metadata": {},
   "outputs": [],
   "source": []
  },
  {
   "cell_type": "code",
   "execution_count": null,
   "id": "f39ca042-0597-44bd-80e7-2c0ad5a41644",
   "metadata": {},
   "outputs": [],
   "source": []
  },
  {
   "cell_type": "code",
   "execution_count": null,
   "id": "a6b18647-f438-4ddd-9208-bf135708fa06",
   "metadata": {},
   "outputs": [],
   "source": []
  },
  {
   "cell_type": "code",
   "execution_count": null,
   "id": "f7ceb4e4-b512-44ff-8db3-13f75ffc7645",
   "metadata": {},
   "outputs": [],
   "source": []
  },
  {
   "cell_type": "code",
   "execution_count": null,
   "id": "3d26554d-ceab-4fa8-84a8-d0bb4be9a7a2",
   "metadata": {},
   "outputs": [],
   "source": []
  }
 ],
 "metadata": {
  "kernelspec": {
   "display_name": "Python 3 (ipykernel)",
   "language": "python",
   "name": "python3"
  },
  "language_info": {
   "codemirror_mode": {
    "name": "ipython",
    "version": 3
   },
   "file_extension": ".py",
   "mimetype": "text/x-python",
   "name": "python",
   "nbconvert_exporter": "python",
   "pygments_lexer": "ipython3",
   "version": "3.12.7"
  }
 },
 "nbformat": 4,
 "nbformat_minor": 5
}
